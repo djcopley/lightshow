{
 "cells": [
  {
   "cell_type": "markdown",
   "source": [
    "# Digital Signal Processing Testing"
   ],
   "metadata": {
    "collapsed": false,
    "pycharm": {
     "name": "#%% md\n"
    }
   }
  },
  {
   "cell_type": "code",
   "execution_count": 2,
   "outputs": [
    {
     "name": "stdout",
     "output_type": "stream",
     "text": [
      "67\n"
     ]
    }
   ],
   "source": [
    "import numpy\n",
    "import matplotlib\n",
    "import scipy\n",
    "\n",
    "# File path to data server\n",
    "data_file = \"/dev/urandom\"\n",
    "\n",
    "# 16 Bits Per Sample\n",
    "bps = 16\n",
    "# 44,100 Hz\n",
    "freq = 44100\n",
    "\n",
    "# Read data\n",
    "with open(data_file, \"rb\") as f:\n",
    "    # Read data in big endian\n",
    "    print(int.from_bytes(f.read(1), byteorder=\"big\", signed=True))"
   ],
   "metadata": {
    "collapsed": false,
    "pycharm": {
     "name": "#%%\n"
    }
   }
  }
 ],
 "metadata": {
  "kernelspec": {
   "display_name": "Python 3",
   "language": "python",
   "name": "python3"
  },
  "language_info": {
   "codemirror_mode": {
    "name": "ipython",
    "version": 2
   },
   "file_extension": ".py",
   "mimetype": "text/x-python",
   "name": "python",
   "nbconvert_exporter": "python",
   "pygments_lexer": "ipython2",
   "version": "2.7.6"
  }
 },
 "nbformat": 4,
 "nbformat_minor": 0
}